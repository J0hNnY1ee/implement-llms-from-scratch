{
 "cells": [
  {
   "cell_type": "code",
   "execution_count": 1,
   "metadata": {},
   "outputs": [],
   "source": [
    "import torch,tiktoken\n",
    "from torch.utils.data import Dataset,DataLoader\n",
    "class GPTDatasetV1(Dataset):\n",
    "    def __init__(self,txt,tokenizer,max_length,stride):\n",
    "        self.tokenizer = tokenizer\n",
    "        self.input_ids = []\n",
    "        self.target_ids = []\n",
    "        token_ids = tokenizer.encode(txt)\n",
    "        for i in range(0,len(token_ids) - max_length,stride):\n",
    "            input_chunk  = token_ids[i:i+max_length]\n",
    "            target_chunk = token_ids[i+1 :i +max_length + 1]\n",
    "            self.input_ids.append(torch.tensor(input_chunk))\n",
    "            self.target_ids.append(torch.tensor(target_chunk))\n",
    "    def __len__(self):\n",
    "        return len(self.input_ids)\n",
    "    def __getitem__(self, index):\n",
    "        return self.input_ids[index],self.target_ids[index]\n",
    "\n",
    "def create_dataloader_v1(txt, batch_size=4,\n",
    "        max_length=256, stride=128, shuffle=True, drop_last=True):\n",
    "    tokenizer = tiktoken.get_encoding(\"gpt2\")\n",
    "    dataset = GPTDatasetV1(txt,tokenizer,max_length,stride)\n",
    "    dataloader = DataLoader(dataset,batch_size=batch_size,shuffle=shuffle,drop_last=drop_last)\n",
    "    return dataloader"
   ]
  },
  {
   "cell_type": "code",
   "execution_count": 2,
   "metadata": {},
   "outputs": [
    {
     "name": "stdout",
     "output_type": "stream",
     "text": [
      "Token IDs:\n",
      " tensor([[  938,   339, 13055,    11],\n",
      "        [  314,   836,   470, 45553],\n",
      "        [   40,  1276,  1107,   766],\n",
      "        [  466,  1194, 14000,    13],\n",
      "        [  345,  1683, 45553,   903],\n",
      "        [   11, 10371,   257,  1534],\n",
      "        [  520,  5493,    82,  1302],\n",
      "        [  286,   616,  4286,   705]])\n",
      "\n",
      "Inputs shape:\n",
      " torch.Size([8, 4])\n",
      "torch.Size([8, 4, 256])\n",
      "tensor([[[ 1.3183, -0.2563,  0.7627,  ..., -0.6953,  1.4740, -0.9624],\n",
      "         [ 1.6142,  1.1780, -0.2096,  ...,  0.0241,  1.2200, -1.0252],\n",
      "         [-1.1150,  0.2280,  1.1243,  ...,  0.2122,  1.2482, -0.1920],\n",
      "         [ 1.9317,  0.6534,  0.4670,  ..., -2.0068, -1.5714, -1.1566]],\n",
      "\n",
      "        [[ 0.9374,  0.3580,  2.9299,  ...,  2.6589, -0.0783, -0.3468],\n",
      "         [ 1.0085,  0.1684, -2.8103,  ..., -0.4716,  0.1496,  1.0750],\n",
      "         [ 0.0443,  0.9462,  0.5753,  ..., -1.1567,  0.1821, -0.1174],\n",
      "         [-0.0158,  0.5259,  2.2099,  ...,  1.1880,  0.2722,  0.0843]],\n",
      "\n",
      "        [[ 0.3209,  1.4145, -0.6278,  ..., -0.2335, -0.7737, -0.4375],\n",
      "         [ 0.3923, -2.4138,  0.2272,  ...,  0.1789,  0.9217,  1.3504],\n",
      "         [ 0.4482,  0.3715,  0.2349,  ..., -0.6416,  0.2450,  0.1665],\n",
      "         [-0.2907, -0.0254,  2.1311,  ..., -0.4404, -1.5694,  0.6697]],\n",
      "\n",
      "        ...,\n",
      "\n",
      "        [[ 1.9317,  0.6534,  0.4670,  ..., -2.0068, -1.5714, -1.1566],\n",
      "         [-0.9666, -0.1644, -1.4037,  ...,  0.7487,  0.2706, -0.5124],\n",
      "         [-1.3983,  0.9257, -1.7650,  ..., -1.3131, -0.0870, -2.0018],\n",
      "         [-0.6287, -0.9212,  0.0094,  ..., -1.0057, -1.7450,  2.2517]],\n",
      "\n",
      "        [[-0.0467, -1.3732,  0.1839,  ...,  0.9245,  0.0223, -1.8509],\n",
      "         [ 0.9724, -0.7216, -0.2518,  ...,  0.6983, -0.2716,  0.5713],\n",
      "         [-0.1143,  1.1758,  0.2494,  ...,  0.2749, -0.2014,  0.1587],\n",
      "         [-0.1367,  0.4972,  0.1129,  ..., -1.0504,  0.1061, -0.5757]],\n",
      "\n",
      "        [[-0.5417,  0.9603,  0.3747,  ...,  0.5583, -0.4839, -0.7219],\n",
      "         [-1.2062,  1.2674, -0.0383,  ..., -0.2778, -0.5442,  0.8701],\n",
      "         [ 0.3891, -0.3989, -1.0168,  ..., -0.5835,  0.4625,  1.0732],\n",
      "         [ 0.0335,  0.9506,  0.4897,  ...,  0.1499, -1.7934, -1.6861]]],\n",
      "       grad_fn=<EmbeddingBackward0>)\n"
     ]
    }
   ],
   "source": [
    "output_dim = 256\n",
    "vocab_size = 50257\n",
    "max_length = 4\n",
    "token_embedding_layer = torch.nn.Embedding(vocab_size,output_dim)\n",
    "with open(\"the-verdict.txt\",\"r\",encoding=\"utf-8\") as f:\n",
    "    raw_text = f.read();\n",
    "dataloader = create_dataloader_v1(raw_text,batch_size=8,max_length=max_length,stride=max_length)\n",
    "data_iter = iter(dataloader)\n",
    "inputs, targets = next(data_iter)\n",
    "print(\"Token IDs:\\n\", inputs)\n",
    "print(\"\\nInputs shape:\\n\", inputs.shape)\n",
    "token_embeddings = token_embedding_layer(inputs)\n",
    "print(token_embeddings.shape)\n",
    "print(token_embeddings)\n"
   ]
  },
  {
   "cell_type": "code",
   "execution_count": 3,
   "metadata": {},
   "outputs": [
    {
     "name": "stdout",
     "output_type": "stream",
     "text": [
      "torch.Size([4, 256])\n",
      "torch.Size([8, 4, 256])\n"
     ]
    }
   ],
   "source": [
    "context_length = max_length\n",
    "pos_embedding_layer = torch.nn.Embedding(context_length, output_dim)\n",
    "pos_embeddings = pos_embedding_layer(torch.arange(context_length))\n",
    "print(pos_embeddings.shape)\n",
    "input_embeddings = token_embeddings + pos_embeddings\n",
    "print(input_embeddings.shape)"
   ]
  }
 ],
 "metadata": {
  "kernelspec": {
   "display_name": "Python 3",
   "language": "python",
   "name": "python3"
  },
  "language_info": {
   "codemirror_mode": {
    "name": "ipython",
    "version": 3
   },
   "file_extension": ".py",
   "mimetype": "text/x-python",
   "name": "python",
   "nbconvert_exporter": "python",
   "pygments_lexer": "ipython3",
   "version": "3.12.7"
  }
 },
 "nbformat": 4,
 "nbformat_minor": 2
}
